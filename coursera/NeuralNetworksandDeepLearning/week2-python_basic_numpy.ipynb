{
 "cells": [
  {
   "cell_type": "markdown",
   "id": "18436e95",
   "metadata": {},
   "source": [
    "# building basic function with numpy\n",
    "\n",
    "numpy를 사용해서 sigmoid function을 만들어보자.\n",
    "\n",
    "sigmoid 함수는 $simgoid(x) = \\frac{1}{1+e^{-x}}$ 이다.\n",
    "\n"
   ]
  },
  {
   "cell_type": "code",
   "execution_count": 1,
   "id": "63d4476f",
   "metadata": {
    "ExecuteTime": {
     "end_time": "2023-09-11T18:12:53.462873Z",
     "start_time": "2023-09-11T18:12:53.446559Z"
    }
   },
   "outputs": [],
   "source": [
    "import math\n",
    "\n",
    "def basic_sigmoid(x):\n",
    "    '''\n",
    "    arguments:\n",
    "    x -- scalar\n",
    "    '''\n",
    "    \n",
    "    s = 1 / (1+math.exp(-x))\n",
    "    \n",
    "    return s"
   ]
  },
  {
   "cell_type": "code",
   "execution_count": 2,
   "id": "7e37622a",
   "metadata": {
    "ExecuteTime": {
     "end_time": "2023-09-11T18:12:53.905262Z",
     "start_time": "2023-09-11T18:12:53.887862Z"
    }
   },
   "outputs": [
    {
     "data": {
      "text/plain": [
       "0.5"
      ]
     },
     "execution_count": 2,
     "metadata": {},
     "output_type": "execute_result"
    }
   ],
   "source": [
    "basic_sigmoid(0)"
   ]
  },
  {
   "cell_type": "code",
   "execution_count": 3,
   "id": "6a4b980a",
   "metadata": {
    "ExecuteTime": {
     "end_time": "2023-09-11T18:12:54.709970Z",
     "start_time": "2023-09-11T18:12:54.299257Z"
    }
   },
   "outputs": [],
   "source": [
    "import matplotlib.pyplot as plt\n",
    "import numpy as np"
   ]
  },
  {
   "cell_type": "code",
   "execution_count": 4,
   "id": "e2c553a2",
   "metadata": {
    "ExecuteTime": {
     "end_time": "2023-09-11T18:12:54.771268Z",
     "start_time": "2023-09-11T18:12:54.769498Z"
    }
   },
   "outputs": [],
   "source": [
    "x = np.linspace(-50, 50, 100)"
   ]
  },
  {
   "cell_type": "code",
   "execution_count": 5,
   "id": "c2e9fd2c",
   "metadata": {
    "ExecuteTime": {
     "end_time": "2023-09-11T18:12:55.269827Z",
     "start_time": "2023-09-11T18:12:55.266400Z"
    }
   },
   "outputs": [],
   "source": [
    "values = []\n",
    "\n",
    "for element in x:\n",
    "    value = basic_sigmoid(element)\n",
    "    values.append(value)"
   ]
  },
  {
   "cell_type": "code",
   "execution_count": 6,
   "id": "85dec3e8",
   "metadata": {
    "ExecuteTime": {
     "end_time": "2023-09-11T18:12:55.917574Z",
     "start_time": "2023-09-11T18:12:55.822933Z"
    },
    "scrolled": false
   },
   "outputs": [
    {
     "data": {
      "image/png": "[encoded data removed]",
      "text/plain": [
       "<Figure size 720x576 with 1 Axes>"
      ]
     },
     "metadata": {
      "needs_background": "light"
     },
     "output_type": "display_data"
    }
   ],
   "source": [
    "plt.figure(figsize=(10,8))\n",
    "\n",
    "plt.title('basic sigmoid')\n",
    "plt.xlabel('x')\n",
    "plt.ylabel('sigmoid(x)')\n",
    "plt.plot(x, values)\n",
    "plt.grid(True)"
   ]
  },
  {
   "cell_type": "markdown",
   "id": "3f191194",
   "metadata": {},
   "source": [
    "위에서 math 라이브러리의 exp함수를 이용하여 sigmoid function을 구현했다.\n",
    "\n",
    "하지만 딥러닝에서는 주로 행렬과 벡터 계산을 주로 하기때문에 numpy를 사용하여 구현한다.\n",
    "\n",
    "아래 예시를 보면 이유를 알 수 있다."
   ]
  },
  {
   "cell_type": "code",
   "execution_count": 7,
   "id": "b324b4a8",
   "metadata": {
    "ExecuteTime": {
     "end_time": "2023-09-11T18:14:51.302897Z",
     "start_time": "2023-09-11T18:14:51.065475Z"
    }
   },
   "outputs": [
    {
     "ename": "TypeError",
     "evalue": "bad operand type for unary -: 'list'",
     "output_type": "error",
     "traceback": [
      "\u001b[0;31m---------------------------------------------------------------------------\u001b[0m",
      "\u001b[0;31mTypeError\u001b[0m                                 Traceback (most recent call last)",
      "Input \u001b[0;32mIn [7]\u001b[0m, in \u001b[0;36m<cell line: 3>\u001b[0;34m()\u001b[0m\n\u001b[1;32m      1\u001b[0m x \u001b[38;5;241m=\u001b[39m [\u001b[38;5;241m1\u001b[39m,\u001b[38;5;241m2\u001b[39m,\u001b[38;5;241m3\u001b[39m]\n\u001b[0;32m----> 3\u001b[0m \u001b[43mbasic_sigmoid\u001b[49m\u001b[43m(\u001b[49m\u001b[43mx\u001b[49m\u001b[43m)\u001b[49m\n",
      "Input \u001b[0;32mIn [1]\u001b[0m, in \u001b[0;36mbasic_sigmoid\u001b[0;34m(x)\u001b[0m\n\u001b[1;32m      3\u001b[0m \u001b[38;5;28;01mdef\u001b[39;00m \u001b[38;5;21mbasic_sigmoid\u001b[39m(x):\n\u001b[1;32m      4\u001b[0m \u001b[38;5;250m    \u001b[39m\u001b[38;5;124;03m'''\u001b[39;00m\n\u001b[1;32m      5\u001b[0m \u001b[38;5;124;03m    arguments:\u001b[39;00m\n\u001b[1;32m      6\u001b[0m \u001b[38;5;124;03m    x -- scalar\u001b[39;00m\n\u001b[1;32m      7\u001b[0m \u001b[38;5;124;03m    '''\u001b[39;00m\n\u001b[0;32m----> 9\u001b[0m     s \u001b[38;5;241m=\u001b[39m \u001b[38;5;241m1\u001b[39m \u001b[38;5;241m/\u001b[39m (\u001b[38;5;241m1\u001b[39m\u001b[38;5;241m+\u001b[39mmath\u001b[38;5;241m.\u001b[39mexp(\u001b[38;5;241;43m-\u001b[39;49m\u001b[43mx\u001b[49m))\n\u001b[1;32m     11\u001b[0m     \u001b[38;5;28;01mreturn\u001b[39;00m s\n",
      "\u001b[0;31mTypeError\u001b[0m: bad operand type for unary -: 'list'"
     ]
    }
   ],
   "source": [
    "x = [1,2,3]\n",
    "\n",
    "basic_sigmoid(x)"
   ]
  },
  {
   "cell_type": "markdown",
   "id": "99dd06ff",
   "metadata": {},
   "source": [
    "numpy 를 사용한 sigmoid 함수를 생성해보자. \n",
    "\n",
    "numpy의 exp함수를 사용한다."
   ]
  },
  {
   "cell_type": "code",
   "execution_count": 8,
   "id": "52007975",
   "metadata": {
    "ExecuteTime": {
     "end_time": "2023-09-11T18:16:20.315091Z",
     "start_time": "2023-09-11T18:16:20.307706Z"
    }
   },
   "outputs": [],
   "source": [
    "def sigmoid(x):\n",
    "    s = 1 / (1 + np.exp(-x))\n",
    "    return s"
   ]
  },
  {
   "cell_type": "code",
   "execution_count": 9,
   "id": "180e1eaa",
   "metadata": {
    "ExecuteTime": {
     "end_time": "2023-09-11T18:16:36.396555Z",
     "start_time": "2023-09-11T18:16:36.385047Z"
    }
   },
   "outputs": [
    {
     "data": {
      "text/plain": [
       "array([1.92874985e-22, 5.29611247e-22, 1.45424806e-21, 3.99318829e-21,\n",
       "       1.09648093e-20, 3.01080327e-20, 8.26729955e-20, 2.27009990e-19,\n",
       "       6.23341819e-19, 1.71162081e-18, 4.69990255e-18, 1.29053607e-17,\n",
       "       3.54365508e-17, 9.73044580e-17, 2.67186206e-16, 7.33660821e-16,\n",
       "       2.01454337e-15, 5.53169106e-15, 1.51893508e-14, 4.17081097e-14,\n",
       "       1.14525396e-13, 3.14472807e-13, 8.63504075e-13, 2.37107716e-12,\n",
       "       6.51068946e-12, 1.78775613e-11, 4.90896088e-11, 1.34794095e-10,\n",
       "       3.70128188e-10, 1.01632698e-09, 2.79071026e-09, 7.66295088e-09,\n",
       "       2.10415307e-08, 5.77774819e-08, 1.58649921e-07, 4.35633265e-07,\n",
       "       1.19619505e-06, 3.28459924e-06, 9.01905826e-06, 2.47648470e-05,\n",
       "       6.79983174e-05, 1.86692945e-04, 5.12469082e-04, 1.40591988e-03,\n",
       "       3.85103236e-03, 1.05038445e-02, 2.83228820e-02, 7.41067363e-02,\n",
       "       1.80176593e-01, 3.76354517e-01, 6.23645483e-01, 8.19823407e-01,\n",
       "       9.25893264e-01, 9.71677118e-01, 9.89496155e-01, 9.96148968e-01,\n",
       "       9.98594080e-01, 9.99487531e-01, 9.99813307e-01, 9.99932002e-01,\n",
       "       9.99975235e-01, 9.99990981e-01, 9.99996715e-01, 9.99998804e-01,\n",
       "       9.99999564e-01, 9.99999841e-01, 9.99999942e-01, 9.99999979e-01,\n",
       "       9.99999992e-01, 9.99999997e-01, 9.99999999e-01, 1.00000000e+00,\n",
       "       1.00000000e+00, 1.00000000e+00, 1.00000000e+00, 1.00000000e+00,\n",
       "       1.00000000e+00, 1.00000000e+00, 1.00000000e+00, 1.00000000e+00,\n",
       "       1.00000000e+00, 1.00000000e+00, 1.00000000e+00, 1.00000000e+00,\n",
       "       1.00000000e+00, 1.00000000e+00, 1.00000000e+00, 1.00000000e+00,\n",
       "       1.00000000e+00, 1.00000000e+00, 1.00000000e+00, 1.00000000e+00,\n",
       "       1.00000000e+00, 1.00000000e+00, 1.00000000e+00, 1.00000000e+00,\n",
       "       1.00000000e+00, 1.00000000e+00, 1.00000000e+00, 1.00000000e+00])"
      ]
     },
     "execution_count": 9,
     "metadata": {},
     "output_type": "execute_result"
    }
   ],
   "source": [
    "x = np.linspace(-50,50,100)\n",
    "\n",
    "sigmoid(x)"
   ]
  },
  {
   "cell_type": "code",
   "execution_count": 11,
   "id": "5453c626",
   "metadata": {
    "ExecuteTime": {
     "end_time": "2023-09-11T18:17:03.428702Z",
     "start_time": "2023-09-11T18:17:03.353227Z"
    }
   },
   "outputs": [
    {
     "data": {
      "image/png": "[encoded data removed]",
      "text/plain": [
       "<Figure size 720x576 with 1 Axes>"
      ]
     },
     "metadata": {
      "needs_background": "light"
     },
     "output_type": "display_data"
    }
   ],
   "source": [
    "plt.figure(figsize=(10,8))\n",
    "\n",
    "plt.title('sigmoid')\n",
    "plt.xlabel('x')\n",
    "plt.ylabel('sigmoid(x)')\n",
    "plt.plot(x, sigmoid(x))\n",
    "plt.grid(True)"
   ]
  },
  {
   "cell_type": "markdown",
   "id": "83a80970",
   "metadata": {},
   "source": [
    "# sigmoid derivatives"
   ]
  },
  {
   "cell_type": "markdown",
   "id": "8b79ce33",
   "metadata": {},
   "source": [
    "sigmoid의 도함수는 아래와 같다.\n",
    "\n",
    "\n",
    "$\\frac{d}{dx}sigmoid(x) = sigmoid(x)(1-sigmoid(x))$\n",
    "\n",
    "이를 적용하여 gradient를 얻는 함수를 생성하자."
   ]
  },
  {
   "cell_type": "code",
   "execution_count": 12,
   "id": "b97acabf",
   "metadata": {
    "ExecuteTime": {
     "end_time": "2023-09-11T18:21:54.354839Z",
     "start_time": "2023-09-11T18:21:54.348708Z"
    }
   },
   "outputs": [],
   "source": [
    "def sigmoid_derivative(x):\n",
    "    s = sigmoid(x)\n",
    "    \n",
    "    ds = s * (1-s)\n",
    "    \n",
    "    return ds\n",
    "    "
   ]
  },
  {
   "cell_type": "code",
   "execution_count": 17,
   "id": "ee9b6306",
   "metadata": {
    "ExecuteTime": {
     "end_time": "2023-09-11T18:25:11.967025Z",
     "start_time": "2023-09-11T18:25:11.885642Z"
    }
   },
   "outputs": [
    {
     "data": {
      "image/png": "[encoded data removed]",
      "text/plain": [
       "<Figure size 720x576 with 1 Axes>"
      ]
     },
     "metadata": {
      "needs_background": "light"
     },
     "output_type": "display_data"
    }
   ],
   "source": [
    "x = np.linspace(-10,10,100)\n",
    "\n",
    "plt.figure(figsize=(10,8))\n",
    "\n",
    "plt.title('sigmoid derivative')\n",
    "plt.xlabel('x')\n",
    "plt.ylabel('gradient')\n",
    "plt.plot(x, sigmoid_derivative(x))\n",
    "plt.grid(True)"
   ]
  },
  {
   "cell_type": "markdown",
   "id": "ae3bd7ee",
   "metadata": {},
   "source": [
    "# reshaping arrays"
   ]
  },
  {
   "cell_type": "markdown",
   "id": "61694bcd",
   "metadata": {},
   "source": [
    "이미지를 벡터로 변환할 때 reshape를 사용할 수 있다.\n",
    "이미지 3차원 -> 1차원 벡터"
   ]
  },
  {
   "cell_type": "code",
   "execution_count": 18,
   "id": "2cc95a30",
   "metadata": {
    "ExecuteTime": {
     "end_time": "2023-09-12T13:15:37.278300Z",
     "start_time": "2023-09-12T13:15:37.266411Z"
    }
   },
   "outputs": [],
   "source": [
    "def image2vector(image):\n",
    "    v = image.reshape(image.shape[0]*image.shape[1]*image.shape[2], 1)\n",
    "    return v"
   ]
  },
  {
   "cell_type": "code",
   "execution_count": 24,
   "id": "f95b23a4",
   "metadata": {
    "ExecuteTime": {
     "end_time": "2023-09-12T13:17:15.031289Z",
     "start_time": "2023-09-12T13:17:15.021026Z"
    }
   },
   "outputs": [
    {
     "name": "stdout",
     "output_type": "stream",
     "text": [
      "image's shape : (3, 3, 2)\n",
      "image2vector(image) = [[0.67826139]\n",
      " [0.29380381]\n",
      " [0.90714982]\n",
      " [0.52835647]\n",
      " [0.4215251 ]\n",
      " [0.45017551]\n",
      " [0.92814219]\n",
      " [0.96677647]\n",
      " [0.85304703]\n",
      " [0.52351845]\n",
      " [0.19981397]\n",
      " [0.27417313]\n",
      " [0.60659855]\n",
      " [0.00533165]\n",
      " [0.10820313]\n",
      " [0.49978937]\n",
      " [0.34144279]\n",
      " [0.94630077]]\n",
      "vector shape : (18, 1)\n"
     ]
    }
   ],
   "source": [
    "image = np.array([[[ 0.67826139,  0.29380381],\n",
    "        [ 0.90714982,  0.52835647],\n",
    "        [ 0.4215251 ,  0.45017551]],\n",
    "\n",
    "       [[ 0.92814219,  0.96677647],\n",
    "        [ 0.85304703,  0.52351845],\n",
    "        [ 0.19981397,  0.27417313]],\n",
    "\n",
    "       [[ 0.60659855,  0.00533165],\n",
    "        [ 0.10820313,  0.49978937],\n",
    "        [ 0.34144279,  0.94630077]]])\n",
    "\n",
    "\n",
    "print(f\"image's shape : {image.shape}\")\n",
    "print(\"image2vector(image) = \" + str(image2vector(image)))\n",
    "print(f\"vector shape : {image2vector(image).shape}\")"
   ]
  },
  {
   "cell_type": "markdown",
   "id": "9e531249",
   "metadata": {},
   "source": [
    "# Normalizing rows"
   ]
  },
  {
   "cell_type": "markdown",
   "id": "811278ef",
   "metadata": {},
   "source": [
    "머신러닝과 딥러닝에서 사용하는 또 다른 일반적인 기술은 데이터를 정규화하는 것이다. \n",
    "\n",
    "Gradient Descent은 정규화 후 더 빠르게 수렴하기 때문에 종종 더 나은 성능으로 이어진다. \n",
    "\n",
    "여기서 정규화란 x를 다음과 같이 변경하는 것을 의미한다.\n",
    " \n",
    "x의 각 행 벡터를 해당 norm으로 나눈다.\n",
    "\n",
    "$x_{normalized} = \\frac{x}{||x||}$\n"
   ]
  },
  {
   "cell_type": "markdown",
   "id": "60de59d0",
   "metadata": {},
   "source": [
    "## keepdims 예시"
   ]
  },
  {
   "cell_type": "code",
   "execution_count": 25,
   "id": "a79e5ff7",
   "metadata": {
    "ExecuteTime": {
     "end_time": "2023-09-12T13:25:35.721311Z",
     "start_time": "2023-09-12T13:25:35.715619Z"
    }
   },
   "outputs": [],
   "source": [
    "a = np.array([[1,2],\n",
    "             [3,4]])"
   ]
  },
  {
   "cell_type": "code",
   "execution_count": 30,
   "id": "13b85e71",
   "metadata": {
    "ExecuteTime": {
     "end_time": "2023-09-12T13:26:25.288928Z",
     "start_time": "2023-09-12T13:26:25.278687Z"
    }
   },
   "outputs": [
    {
     "name": "stdout",
     "output_type": "stream",
     "text": [
      "(2,)\n",
      "(2, 1)\n"
     ]
    }
   ],
   "source": [
    "print(np.sum(a, axis=1, keepdims=False).shape)\n",
    "print(np.sum(a, axis=1, keepdims=True).shape)"
   ]
  },
  {
   "cell_type": "code",
   "execution_count": 31,
   "id": "b13d98f1",
   "metadata": {
    "ExecuteTime": {
     "end_time": "2023-09-12T13:27:06.101417Z",
     "start_time": "2023-09-12T13:27:06.094839Z"
    }
   },
   "outputs": [],
   "source": [
    "def normalizeRows(x):\n",
    "    # np.linalg.norm 을 사용하여 x_norm 계산, keepdims 사용하여 broadcasting 가능 \n",
    "    x_norm = np.linalg.norm(x,axis = 1,keepdims=True)\n",
    "    \n",
    "    x = x / x_norm\n",
    "    \n",
    "    return x"
   ]
  },
  {
   "cell_type": "code",
   "execution_count": 32,
   "id": "08e717db",
   "metadata": {
    "ExecuteTime": {
     "end_time": "2023-09-12T13:27:18.953620Z",
     "start_time": "2023-09-12T13:27:18.943138Z"
    }
   },
   "outputs": [
    {
     "name": "stdout",
     "output_type": "stream",
     "text": [
      "normalizeRows(x) = [[0.         0.6        0.8       ]\n",
      " [0.13736056 0.82416338 0.54944226]]\n"
     ]
    }
   ],
   "source": [
    "x = np.array([\n",
    "    [0, 3, 4],\n",
    "    [1, 6, 4]])\n",
    "print(\"normalizeRows(x) = \" + str(normalizeRows(x)))"
   ]
  },
  {
   "cell_type": "markdown",
   "id": "fde7c4aa",
   "metadata": {},
   "source": [
    "# softmax"
   ]
  },
  {
   "cell_type": "markdown",
   "id": "7d113a4b",
   "metadata": {},
   "source": [
    "softmax 함수는 아래와 같다.\n",
    "\n",
    "\n",
    "$softmax_n(x) = \\frac{e^{x_{n}}}{\\displaystyle\\sum_{k=1}^{N}{e^{x_k}}}$\n",
    "\n",
    "이를 구현해보자."
   ]
  },
  {
   "cell_type": "code",
   "execution_count": 33,
   "id": "218b2d83",
   "metadata": {
    "ExecuteTime": {
     "end_time": "2023-09-12T13:49:43.370995Z",
     "start_time": "2023-09-12T13:49:43.363790Z"
    }
   },
   "outputs": [],
   "source": [
    "def softmax(x):\n",
    "    x_exp = np.exp(x)\n",
    "    x_sum = np.sum(x_exp, axis=1, keepdims=True)\n",
    "    \n",
    "    s = x_exp/x_sum\n",
    "    \n",
    "    return s"
   ]
  },
  {
   "cell_type": "code",
   "execution_count": 34,
   "id": "6ba03c6c",
   "metadata": {
    "ExecuteTime": {
     "end_time": "2023-09-12T13:49:50.952037Z",
     "start_time": "2023-09-12T13:49:50.943054Z"
    }
   },
   "outputs": [
    {
     "name": "stdout",
     "output_type": "stream",
     "text": [
      "softmax(x) = [[9.80897665e-01 8.94462891e-04 1.79657674e-02 1.21052389e-04\n",
      "  1.21052389e-04]\n",
      " [8.78679856e-01 1.18916387e-01 8.01252314e-04 8.01252314e-04\n",
      "  8.01252314e-04]]\n"
     ]
    }
   ],
   "source": [
    "x = np.array([\n",
    "    [9, 2, 5, 0, 0],\n",
    "    [7, 5, 0, 0 ,0]])\n",
    "print(\"softmax(x) = \" + str(softmax(x)))"
   ]
  },
  {
   "cell_type": "markdown",
   "id": "46d2f8f5",
   "metadata": {},
   "source": [
    "# L1 and L2 loss function"
   ]
  },
  {
   "cell_type": "markdown",
   "id": "e87cb27e",
   "metadata": {},
   "source": [
    "L1 loss 의 정의는 아래와 같다.\n",
    "\n",
    "$L_1(\\hat{y}, y) = {\\displaystyle\\sum_{i=0}^{m}}|y^{(i)} - \\hat{y}^{i}|$\n",
    "\n",
    "L2 loss 의 정의는 아래와 같다.\n",
    "\n",
    "$L_2(\\hat{y}, y) = {\\displaystyle\\sum_{i=0}^{m}}(y^{(i)} - \\hat{y}^{i})^2$\n"
   ]
  },
  {
   "cell_type": "code",
   "execution_count": 36,
   "id": "93d28719",
   "metadata": {
    "ExecuteTime": {
     "end_time": "2023-09-12T13:59:10.419379Z",
     "start_time": "2023-09-12T13:59:10.411306Z"
    }
   },
   "outputs": [],
   "source": [
    "def L1(yhat, y):\n",
    "    \n",
    "    loss = sum(abs(y-yhat))\n",
    "\n",
    "    return loss"
   ]
  },
  {
   "cell_type": "code",
   "execution_count": 37,
   "id": "748997ba",
   "metadata": {
    "ExecuteTime": {
     "end_time": "2023-09-12T13:59:19.160093Z",
     "start_time": "2023-09-12T13:59:19.151005Z"
    }
   },
   "outputs": [
    {
     "name": "stdout",
     "output_type": "stream",
     "text": [
      "L1 = 1.1\n"
     ]
    }
   ],
   "source": [
    "yhat = np.array([.9, 0.2, 0.1, .4, .9])\n",
    "y = np.array([1, 0, 0, 1, 1])\n",
    "print(\"L1 = \" + str(L1(yhat,y)))\n"
   ]
  },
  {
   "cell_type": "code",
   "execution_count": 38,
   "id": "7e4e887b",
   "metadata": {
    "ExecuteTime": {
     "end_time": "2023-09-12T14:00:26.350339Z",
     "start_time": "2023-09-12T14:00:26.342636Z"
    }
   },
   "outputs": [],
   "source": [
    "def L2(yhat, y):\n",
    "    x = yhat-y\n",
    "    \n",
    "    loss = np.dot(x, x)\n",
    "    \n",
    "    return loss"
   ]
  },
  {
   "cell_type": "code",
   "execution_count": 39,
   "id": "dd01f151",
   "metadata": {
    "ExecuteTime": {
     "end_time": "2023-09-12T14:00:37.774809Z",
     "start_time": "2023-09-12T14:00:37.765371Z"
    }
   },
   "outputs": [
    {
     "name": "stdout",
     "output_type": "stream",
     "text": [
      "L2 = 0.43000000000000005\n"
     ]
    }
   ],
   "source": [
    "yhat = np.array([.9, 0.2, 0.1, .4, .9])\n",
    "y = np.array([1, 0, 0, 1, 1])\n",
    "print(\"L2 = \" + str(L2(yhat,y)))\n"
   ]
  },
  {
   "cell_type": "code",
   "execution_count": null,
   "id": "5b9fcdc0",
   "metadata": {},
   "outputs": [],
   "source": []
  }
 ],
 "metadata": {
  "kernelspec": {
   "display_name": "Python 3 (ipykernel)",
   "language": "python",
   "name": "python3"
  },
  "language_info": {
   "codemirror_mode": {
    "name": "ipython",
    "version": 3
   },
   "file_extension": ".py",
   "mimetype": "text/x-python",
   "name": "python",
   "nbconvert_exporter": "python",
   "pygments_lexer": "ipython3",
   "version": "3.9.12"
  },
  "toc": {
   "base_numbering": 1,
   "nav_menu": {},
   "number_sections": true,
   "sideBar": true,
   "skip_h1_title": false,
   "title_cell": "Table of Contents",
   "title_sidebar": "Contents",
   "toc_cell": false,
   "toc_position": {},
   "toc_section_display": true,
   "toc_window_display": false
  }
 },
 "nbformat": 4,
 "nbformat_minor": 5
}
