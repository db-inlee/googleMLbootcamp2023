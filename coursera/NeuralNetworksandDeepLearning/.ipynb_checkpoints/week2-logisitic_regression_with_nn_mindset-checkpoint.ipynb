{
 "cells": [
  {
   "cell_type": "code",
   "execution_count": 1,
   "id": "4f45b2d3",
   "metadata": {
    "ExecuteTime": {
     "end_time": "2023-09-11T18:31:50.765530Z",
     "start_time": "2023-09-11T18:31:50.660064Z"
    }
   },
   "outputs": [],
   "source": [
    "import numpy as np"
   ]
  },
  {
   "cell_type": "markdown",
   "id": "da38b6f2",
   "metadata": {},
   "source": [
    "# logistic regression algorithm"
   ]
  },
  {
   "cell_type": "markdown",
   "id": "5f04c313",
   "metadata": {},
   "source": [
    "**Mathematical expression of the algorithm**:\n",
    "\n",
    "For one example $x^{(i)}$:\n",
    "$$z^{(i)} = w^T x^{(i)} + b \\tag{1}$$\n",
    "$$\\hat{y}^{(i)} = a^{(i)} = sigmoid(z^{(i)})\\tag{2}$$ \n",
    "$$ \\mathcal{L}(a^{(i)}, y^{(i)}) =  - y^{(i)}  \\log(a^{(i)}) - (1-y^{(i)} )  \\log(1-a^{(i)})\\tag{3}$$\n",
    "\n",
    "The cost is then computed by summing over all training examples:\n",
    "$$ J = \\frac{1}{m} \\sum_{i=1}^m \\mathcal{L}(a^{(i)}, y^{(i)})\\tag{6}$$\n"
   ]
  },
  {
   "cell_type": "markdown",
   "id": "654b882f",
   "metadata": {},
   "source": [
    "## sigmoid function"
   ]
  },
  {
   "cell_type": "code",
   "execution_count": 2,
   "id": "836bd4e5",
   "metadata": {
    "ExecuteTime": {
     "end_time": "2023-09-11T18:32:17.087495Z",
     "start_time": "2023-09-11T18:32:17.078399Z"
    }
   },
   "outputs": [],
   "source": [
    "def sigmoid(z):\n",
    "    s = 1 / (1+np.exp(-z))\n",
    "    return s"
   ]
  },
  {
   "cell_type": "code",
   "execution_count": 3,
   "id": "bbd98840",
   "metadata": {
    "ExecuteTime": {
     "end_time": "2023-09-11T18:32:40.453099Z",
     "start_time": "2023-09-11T18:32:40.437135Z"
    }
   },
   "outputs": [
    {
     "data": {
      "text/plain": [
       "array([0.5       , 0.88079708])"
      ]
     },
     "execution_count": 3,
     "metadata": {},
     "output_type": "execute_result"
    }
   ],
   "source": [
    "sigmoid(np.array([0,2]))"
   ]
  },
  {
   "cell_type": "markdown",
   "id": "089dcd46",
   "metadata": {},
   "source": [
    "## initializing parameters"
   ]
  },
  {
   "cell_type": "code",
   "execution_count": 4,
   "id": "f1463a40",
   "metadata": {
    "ExecuteTime": {
     "end_time": "2023-09-12T14:05:43.502873Z",
     "start_time": "2023-09-12T14:05:43.493564Z"
    }
   },
   "outputs": [],
   "source": [
    "def initialize_with_zeros(dim):\n",
    "    w = np.zeros((dim, 1))\n",
    "    b = 0\n",
    "    \n",
    "    assert(w.shape == (dim, 1))\n",
    "    assert(isinstance(b, float) or isinstance(b, int))\n",
    "    \n",
    "    return w, b"
   ]
  },
  {
   "cell_type": "code",
   "execution_count": 5,
   "id": "aaa9e3bb",
   "metadata": {
    "ExecuteTime": {
     "end_time": "2023-09-12T14:05:53.034234Z",
     "start_time": "2023-09-12T14:05:53.022492Z"
    }
   },
   "outputs": [
    {
     "name": "stdout",
     "output_type": "stream",
     "text": [
      "w = [[0.]\n",
      " [0.]]\n",
      "b = 0\n"
     ]
    }
   ],
   "source": [
    "dim = 2\n",
    "w, b = initialize_with_zeros(dim)\n",
    "print (\"w = \" + str(w))\n",
    "print (\"b = \" + str(b))"
   ]
  },
  {
   "cell_type": "markdown",
   "id": "e1665526",
   "metadata": {},
   "source": [
    "## forward and backward propagation"
   ]
  },
  {
   "cell_type": "markdown",
   "id": "25791e0f",
   "metadata": {},
   "source": [
    "Forward Propagation:\n",
    "- You get X\n",
    "- You compute $A = \\sigma(w^T X + b) = (a^{(1)}, a^{(2)}, ..., a^{(m-1)}, a^{(m)})$\n",
    "- You calculate the cost function: $J = -\\frac{1}{m}\\sum_{i=1}^{m}y^{(i)}\\log(a^{(i)})+(1-y^{(i)})\\log(1-a^{(i)})$\n",
    "\n",
    "Here are the two formulas you will be using: \n",
    "\n",
    "$$ \\frac{\\partial J}{\\partial w} = \\frac{1}{m}X(A-Y)^T\\tag{7}$$\n",
    "$$ \\frac{\\partial J}{\\partial b} = \\frac{1}{m} \\sum_{i=1}^m (a^{(i)}-y^{(i)})\\tag{8}$$"
   ]
  },
  {
   "cell_type": "code",
   "execution_count": 7,
   "id": "2f15becd",
   "metadata": {
    "ExecuteTime": {
     "end_time": "2023-09-12T14:15:22.738406Z",
     "start_time": "2023-09-12T14:15:22.724749Z"
    }
   },
   "outputs": [],
   "source": [
    "def propagate(w,b,X,Y):\n",
    "    \n",
    "    m = X.shape[1]\n",
    "    \n",
    "    A = sigmoid(np.dot(w.T, X)+b)\n",
    "    \n",
    "    cost = -(1/m) * np.sum(Y*np.log(A) + (1-Y)*np.log(1-A))\n",
    "    \n",
    "    \n",
    "    dw = (1/m) * np.dot(X, (A-Y).T)\n",
    "    db = (1/m) * np.sum(A-Y)\n",
    "    \n",
    "    cost = np.squeeze(np.array(cost))\n",
    "    \n",
    "    grads = {\n",
    "        'dw' : dw,\n",
    "        'db' : db\n",
    "    }\n",
    "    \n",
    "    return grads, cost"
   ]
  },
  {
   "cell_type": "code",
   "execution_count": 9,
   "id": "15a25e19",
   "metadata": {
    "ExecuteTime": {
     "end_time": "2023-09-12T14:15:53.028661Z",
     "start_time": "2023-09-12T14:15:53.015255Z"
    }
   },
   "outputs": [
    {
     "name": "stdout",
     "output_type": "stream",
     "text": [
      "dw = [[ 0.25071532]\n",
      " [-0.06604096]]\n",
      "db = -0.1250040450043965\n",
      "cost = 0.15900537707692405\n"
     ]
    }
   ],
   "source": [
    "w =  np.array([[1.], [2]])\n",
    "b = 1.5\n",
    "X = np.array([[1., -2., -1.], [3., 0.5, -3.2]])\n",
    "Y = np.array([[1, 1, 0]])\n",
    "grads, cost = propagate(w, b, X, Y)\n",
    "\n",
    "assert type(grads[\"dw\"]) == np.ndarray\n",
    "assert grads[\"dw\"].shape == (2, 1)\n",
    "assert type(grads[\"db\"]) == np.float64\n",
    "\n",
    "\n",
    "print (\"dw = \" + str(grads[\"dw\"]))\n",
    "print (\"db = \" + str(grads[\"db\"]))\n",
    "print (\"cost = \" + str(cost))"
   ]
  },
  {
   "cell_type": "markdown",
   "id": "26690af0",
   "metadata": {},
   "source": [
    "## optimize"
   ]
  },
  {
   "cell_type": "markdown",
   "id": "652f82a8",
   "metadata": {},
   "source": [
    " The goal is to learn $w$ and $b$ by minimizing the cost function $J$. \n",
    " \n",
    " For a parameter $\\theta$, the update rule is $ \\theta = \\theta - \\alpha \\text{ } d\\theta$, where $\\alpha$ is the learning rate."
   ]
  },
  {
   "cell_type": "code",
   "execution_count": 13,
   "id": "bfba1fc8",
   "metadata": {
    "ExecuteTime": {
     "end_time": "2023-09-12T14:34:06.306756Z",
     "start_time": "2023-09-12T14:34:06.293871Z"
    }
   },
   "outputs": [],
   "source": [
    "import copy\n",
    "def optimize(w, b, X, Y, num_iterations=100, learning_rate=0.009, print_cost=False):\n",
    "    \n",
    "    w = copy.deepcopy(w)\n",
    "    b = copy.deepcopy(b)\n",
    "    \n",
    "    costs = []\n",
    "    \n",
    "    for i in range(num_iterations):\n",
    "        grads, cost = propagate(w, b, X, Y)\n",
    "        \n",
    "        dw = grads['dw']\n",
    "        db = grads['db']\n",
    "        \n",
    "        w = w - (learning_rate * dw)\n",
    "        b = b - (learning_rate * db)\n",
    "        \n",
    "        if i % 100 == 0:\n",
    "            costs.append(cost)        \n",
    "            if print_cost:\n",
    "                print (\"Cost after iteration %i: %f\" %(i, cost))\n",
    "    \n",
    "    params = {\"w\": w,\n",
    "              \"b\": b}\n",
    "    \n",
    "    grads = {\"dw\": dw,\n",
    "             \"db\": db}\n",
    "    \n",
    "    return params, grads, costs        "
   ]
  },
  {
   "cell_type": "code",
   "execution_count": 21,
   "id": "6f607af5",
   "metadata": {
    "ExecuteTime": {
     "end_time": "2023-09-12T14:35:08.705687Z",
     "start_time": "2023-09-12T14:35:08.686170Z"
    }
   },
   "outputs": [
    {
     "name": "stdout",
     "output_type": "stream",
     "text": [
      "w = [[0.97543108]\n",
      " [2.00648089]]\n",
      "b = 1.5122486954807202\n",
      "dw = [[ 0.24075671]\n",
      " [-0.06360005]]\n",
      "db = -0.1200167417080136\n",
      "Costs = [array(0.15900538)]\n"
     ]
    }
   ],
   "source": [
    "params, grads, costs = optimize(w, b, X, Y, num_iterations=100, learning_rate=0.001, print_cost=False)\n",
    "\n",
    "print (\"w = \" + str(params[\"w\"]))\n",
    "print (\"b = \" + str(params[\"b\"]))\n",
    "print (\"dw = \" + str(grads[\"dw\"]))\n",
    "print (\"db = \" + str(grads[\"db\"]))\n",
    "print(\"Costs = \" + str(costs))\n"
   ]
  },
  {
   "cell_type": "markdown",
   "id": "0c0a9bda",
   "metadata": {},
   "source": [
    "## predict"
   ]
  },
  {
   "cell_type": "markdown",
   "id": "602f945e",
   "metadata": {},
   "source": [
    " $\\hat{Y} = A = \\sigma(w^T X + b)$ 이다.\n",
    " \n",
    " $\\hat{Y}$ 가 0.5 초과면 1 아니면 0"
   ]
  },
  {
   "cell_type": "code",
   "execution_count": 28,
   "id": "a3cde954",
   "metadata": {
    "ExecuteTime": {
     "end_time": "2023-09-12T14:41:55.449715Z",
     "start_time": "2023-09-12T14:41:55.439934Z"
    }
   },
   "outputs": [],
   "source": [
    "def predict(w, b, X):\n",
    "    \n",
    "    m = X.shape[1]\n",
    "    Y_prediction = np.zeros((1, m))\n",
    "    \n",
    "    w = w.reshape(X.shape[0], 1)\n",
    "    \n",
    "    A = sigmoid(np.dot(w.T, X)+b)\n",
    "    \n",
    "    \n",
    "    for i in range(A.shape[1]):\n",
    "        if A[0][i] <= 0.5:\n",
    "            Y_prediction[0][i] = 0\n",
    "        else:\n",
    "            Y_prediction[0][i] = 1\n",
    "            \n",
    "    return Y_prediction \n",
    "            "
   ]
  },
  {
   "cell_type": "code",
   "execution_count": 29,
   "id": "2eea4568",
   "metadata": {
    "ExecuteTime": {
     "end_time": "2023-09-12T14:42:05.703588Z",
     "start_time": "2023-09-12T14:42:05.694125Z"
    }
   },
   "outputs": [
    {
     "name": "stdout",
     "output_type": "stream",
     "text": [
      "predictions = [[1. 1. 0.]]\n"
     ]
    }
   ],
   "source": [
    "w = np.array([[0.1124579], [0.23106775]])\n",
    "b = -0.3\n",
    "X = np.array([[1., -1.1, -3.2],[1.2, 2., 0.1]])\n",
    "print (\"predictions = \" + str(predict(w, b, X)))\n"
   ]
  },
  {
   "cell_type": "markdown",
   "id": "a3842c9c",
   "metadata": {},
   "source": [
    "# merge all function into a model"
   ]
  },
  {
   "cell_type": "code",
   "execution_count": 30,
   "id": "a34f178f",
   "metadata": {
    "ExecuteTime": {
     "end_time": "2023-09-12T14:49:30.713870Z",
     "start_time": "2023-09-12T14:49:30.701202Z"
    }
   },
   "outputs": [],
   "source": [
    "def model(X_train, Y_train, X_test, Y_test, num_iterations = 2000, learning_rate = 0.5, print_cost = False):\n",
    "    \n",
    "    w, b = initialize_with_zeros(X_train.shape[0])\n",
    "    parameters, grads, costs = optimize(w, b, X, Y, num_iterations, learning_rate, print_cost)\n",
    "    \n",
    "    w = parameters['w']\n",
    "    b = parameters['b']\n",
    "    \n",
    "    Y_prediction_test = predict(w, b, X_test)\n",
    "    Y_prediction_train = predict(w, b, X_train)\n",
    "    \n",
    "    \n",
    "    if print_cost:\n",
    "        print(\"train accuracy: {} %\".format(100 - np.mean(np.abs(Y_prediction_train - Y_train)) * 100))\n",
    "        print(\"test accuracy: {} %\".format(100 - np.mean(np.abs(Y_prediction_test - Y_test)) * 100))\n",
    "\n",
    "    \n",
    "    d = {\"costs\": costs,\n",
    "         \"Y_prediction_test\": Y_prediction_test, \n",
    "         \"Y_prediction_train\" : Y_prediction_train, \n",
    "         \"w\" : w, \n",
    "         \"b\" : b,\n",
    "         \"learning_rate\" : learning_rate,\n",
    "         \"num_iterations\": num_iterations}\n",
    "    \n",
    "    return d \n",
    "    "
   ]
  },
  {
   "cell_type": "code",
   "execution_count": null,
   "id": "9f8ce3e3",
   "metadata": {},
   "outputs": [],
   "source": []
  }
 ],
 "metadata": {
  "kernelspec": {
   "display_name": "Python 3 (ipykernel)",
   "language": "python",
   "name": "python3"
  },
  "language_info": {
   "codemirror_mode": {
    "name": "ipython",
    "version": 3
   },
   "file_extension": ".py",
   "mimetype": "text/x-python",
   "name": "python",
   "nbconvert_exporter": "python",
   "pygments_lexer": "ipython3",
   "version": "3.9.12"
  },
  "toc": {
   "base_numbering": 1,
   "nav_menu": {},
   "number_sections": true,
   "sideBar": true,
   "skip_h1_title": false,
   "title_cell": "Table of Contents",
   "title_sidebar": "Contents",
   "toc_cell": false,
   "toc_position": {},
   "toc_section_display": true,
   "toc_window_display": false
  }
 },
 "nbformat": 4,
 "nbformat_minor": 5
}
